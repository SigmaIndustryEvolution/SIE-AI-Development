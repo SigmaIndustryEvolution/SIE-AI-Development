{
 "cells": [
  {
   "cell_type": "markdown",
   "metadata": {},
   "source": [
    "# Imports"
   ]
  },
  {
   "cell_type": "code",
   "execution_count": 22,
   "metadata": {},
   "outputs": [],
   "source": [
    "import pandas as pd\n",
    "from keras.preprocessing.image import ImageDataGenerator\n",
    "from keras.applications import InceptionV3\n",
    "from keras.optimizers import Adam\n",
    "from keras.callbacks import ReduceLROnPlateau, EarlyStopping, ModelCheckpoint\n",
    "from keras import regularizers\n",
    "import keras\n",
    "import os"
   ]
  },
  {
   "cell_type": "markdown",
   "metadata": {},
   "source": [
    "# Single View"
   ]
  },
  {
   "cell_type": "markdown",
   "metadata": {},
   "source": [
    "## Creating variables"
   ]
  },
  {
   "cell_type": "code",
   "execution_count": 24,
   "metadata": {},
   "outputs": [],
   "source": [
    "IMG_WIDTH = 256\n",
    "IMG_HEIGHT = 256\n",
    "BATCH_SIZE = 16\n",
    "\n",
    "trainData = pd.read_csv('excel/multi-view/csv/multi-view-train.csv')\n",
    "trainDir = 'data-train-val-test-one-folder/train'\n",
    "\n",
    "validationData = pd.read_csv('excel/multi-view/csv/multi-view-val.csv')\n",
    "validationDir = 'data-train-val-test-one-folder/val/'\n",
    "\n",
    "testData = pd.read_csv('excel/multi-view/csv/multi-view-test.csv')\n",
    "testDir = 'data-train-val-test-one-folder/test/'"
   ]
  },
  {
   "cell_type": "markdown",
   "metadata": {},
   "source": [
    "## Creating functions"
   ]
  },
  {
   "cell_type": "code",
   "execution_count": 25,
   "metadata": {},
   "outputs": [],
   "source": [
    "trainGenerator = ImageDataGenerator(width_shift_range=0.1,\n",
    "                         height_shift_range=0.1,\n",
    "                         zoom_range=0.1,\n",
    "                         rotation_range=10,\n",
    "                         shear_range = 0.1,\n",
    "                         fill_mode='nearest',\n",
    "                         horizontal_flip = True,\n",
    "                         preprocessing_function = keras.applications.inception_v3.preprocess_input)\n",
    "\n",
    "validationGenerator = ImageDataGenerator(preprocessing_function = keras.applications.inception_v3.preprocess_input)\n",
    "\n",
    "testGenerator = ImageDataGenerator(preprocessing_function = keras.applications.inception_v3.preprocess_input)\n",
    "\n",
    "def SetClassesAndParts(root):\n",
    "    classes = os.listdir(root) # gets a list of all classes from data\n",
    "    pathToParts = os.path.join(root, classes[0])\n",
    "    parts = os.listdir(pathToParts) # gets a list of all parts from data\n",
    "    return classes, parts\n",
    "\n",
    "def create_model(baseModel, numberOfClasses):\n",
    "    \n",
    "    inputs = keras.Input(shape=(IMG_HEIGHT, IMG_WIDTH, 3))\n",
    "    x = baseModel(inputs, training = False)\n",
    "    x = keras.layers.GlobalAveragePooling2D()(x)\n",
    "    x = keras.layers.Dropout(0.3)(x)\n",
    "\n",
    "    x = keras.layers.Flatten()(x)\n",
    "\n",
    "    x = keras.layers.Dense(512, activation='relu', kernel_regularizer=regularizers.L1L2())(x)\n",
    "    outputs = keras.layers.Dense(numberOfClasses, activation='softmax')(x)\n",
    "\n",
    "    model = keras.Model(inputs,outputs)\n",
    "\n",
    "    return model"
   ]
  },
  {
   "cell_type": "code",
   "execution_count": 26,
   "metadata": {},
   "outputs": [],
   "source": [
    "root = r'data'\n",
    "\n",
    "classes, parts = SetClassesAndParts(root)"
   ]
  },
  {
   "cell_type": "markdown",
   "metadata": {},
   "source": [
    "## Model"
   ]
  },
  {
   "cell_type": "code",
   "execution_count": 27,
   "metadata": {},
   "outputs": [],
   "source": [
    "base_model = InceptionV3(weights = 'imagenet',\n",
    "                        include_top = False,\n",
    "                        input_shape = (IMG_WIDTH, IMG_HEIGHT, 3))\n",
    "base_model.trainable = False"
   ]
  },
  {
   "cell_type": "markdown",
   "metadata": {},
   "source": [
    "### Training and evaluation"
   ]
  },
  {
   "cell_type": "code",
   "execution_count": 29,
   "metadata": {},
   "outputs": [
    {
     "name": "stdout",
     "output_type": "stream",
     "text": [
      "Found 224 validated image filenames belonging to 8 classes.\n",
      "Found 64 validated image filenames belonging to 8 classes.\n",
      "Found 32 validated image filenames belonging to 8 classes.\n"
     ]
    },
    {
     "name": "stdout",
     "output_type": "stream",
     "text": [
      "Epoch 1/10\n",
      "14/14 [==============================] - ETA: 0s - loss: 2.3856 - accuracy: 0.2366\n",
      "Epoch 1: val_loss improved from inf to 1.47924, saving model to models/single-view\\model_back-panels.h5\n"
     ]
    },
    {
     "name": "stderr",
     "output_type": "stream",
     "text": [
      "c:\\Users\\73351374\\AppData\\Local\\anaconda3\\Lib\\site-packages\\keras\\src\\engine\\training.py:3000: UserWarning: You are saving your model as an HDF5 file via `model.save()`. This file format is considered legacy. We recommend using instead the native Keras format, e.g. `model.save('my_model.keras')`.\n",
      "  saving_api.save_model(\n"
     ]
    },
    {
     "name": "stdout",
     "output_type": "stream",
     "text": [
      "14/14 [==============================] - 97s 7s/step - loss: 2.3856 - accuracy: 0.2366 - val_loss: 1.4792 - val_accuracy: 0.5625 - lr: 0.0010\n",
      "Epoch 2/10\n",
      "14/14 [==============================] - ETA: 0s - loss: 1.2006 - accuracy: 0.5536\n",
      "Epoch 2: val_loss improved from 1.47924 to 1.00320, saving model to models/single-view\\model_back-panels.h5\n",
      "14/14 [==============================] - 86s 6s/step - loss: 1.2006 - accuracy: 0.5536 - val_loss: 1.0032 - val_accuracy: 0.6562 - lr: 0.0010\n",
      "Epoch 3/10\n",
      "14/14 [==============================] - ETA: 0s - loss: 0.7340 - accuracy: 0.7455\n",
      "Epoch 3: val_loss improved from 1.00320 to 0.96362, saving model to models/single-view\\model_back-panels.h5\n",
      "14/14 [==============================] - 86s 6s/step - loss: 0.7340 - accuracy: 0.7455 - val_loss: 0.9636 - val_accuracy: 0.6562 - lr: 0.0010\n",
      "Epoch 4/10\n",
      "14/14 [==============================] - ETA: 0s - loss: 0.6843 - accuracy: 0.7902\n",
      "Epoch 4: val_loss improved from 0.96362 to 0.65886, saving model to models/single-view\\model_back-panels.h5\n",
      "14/14 [==============================] - 86s 6s/step - loss: 0.6843 - accuracy: 0.7902 - val_loss: 0.6589 - val_accuracy: 0.7812 - lr: 0.0010\n",
      "Epoch 5/10\n",
      "14/14 [==============================] - ETA: 0s - loss: 0.6223 - accuracy: 0.7902\n",
      "Epoch 5: val_loss improved from 0.65886 to 0.62526, saving model to models/single-view\\model_back-panels.h5\n",
      "14/14 [==============================] - 87s 6s/step - loss: 0.6223 - accuracy: 0.7902 - val_loss: 0.6253 - val_accuracy: 0.7969 - lr: 0.0010\n",
      "Epoch 6/10\n",
      "14/14 [==============================] - ETA: 0s - loss: 0.3609 - accuracy: 0.8839\n",
      "Epoch 6: val_loss did not improve from 0.62526\n",
      "14/14 [==============================] - 85s 6s/step - loss: 0.3609 - accuracy: 0.8839 - val_loss: 0.7325 - val_accuracy: 0.7344 - lr: 0.0010\n",
      "Epoch 7/10\n",
      "14/14 [==============================] - ETA: 0s - loss: 0.4432 - accuracy: 0.8527\n",
      "Epoch 7: val_loss did not improve from 0.62526\n",
      "14/14 [==============================] - 85s 6s/step - loss: 0.4432 - accuracy: 0.8527 - val_loss: 0.6670 - val_accuracy: 0.7812 - lr: 0.0010\n",
      "Epoch 8/10\n",
      "14/14 [==============================] - ETA: 0s - loss: 0.3302 - accuracy: 0.8884\n",
      "Epoch 8: val_loss did not improve from 0.62526\n",
      "14/14 [==============================] - 86s 6s/step - loss: 0.3302 - accuracy: 0.8884 - val_loss: 0.7663 - val_accuracy: 0.7344 - lr: 0.0010\n",
      "Epoch 9/10\n",
      "14/14 [==============================] - ETA: 0s - loss: 0.2583 - accuracy: 0.9196\n",
      "Epoch 9: val_loss improved from 0.62526 to 0.54293, saving model to models/single-view\\model_back-panels.h5\n",
      "14/14 [==============================] - 86s 6s/step - loss: 0.2583 - accuracy: 0.9196 - val_loss: 0.5429 - val_accuracy: 0.8438 - lr: 5.0000e-04\n",
      "Epoch 10/10\n",
      "14/14 [==============================] - ETA: 0s - loss: 0.2428 - accuracy: 0.9107\n",
      "Epoch 10: val_loss did not improve from 0.54293\n",
      "14/14 [==============================] - 84s 6s/step - loss: 0.2428 - accuracy: 0.9107 - val_loss: 0.5503 - val_accuracy: 0.7656 - lr: 5.0000e-04\n",
      "Found 224 validated image filenames belonging to 8 classes.\n",
      "Found 64 validated image filenames belonging to 8 classes.\n",
      "Found 32 validated image filenames belonging to 8 classes.\n",
      "Epoch 1/10\n",
      "14/14 [==============================] - ETA: 0s - loss: 1.8278 - accuracy: 0.4241\n",
      "Epoch 1: val_loss improved from inf to 1.12067, saving model to models/single-view\\model_front-panels.h5\n"
     ]
    },
    {
     "name": "stderr",
     "output_type": "stream",
     "text": [
      "c:\\Users\\73351374\\AppData\\Local\\anaconda3\\Lib\\site-packages\\keras\\src\\engine\\training.py:3000: UserWarning: You are saving your model as an HDF5 file via `model.save()`. This file format is considered legacy. We recommend using instead the native Keras format, e.g. `model.save('my_model.keras')`.\n",
      "  saving_api.save_model(\n"
     ]
    },
    {
     "name": "stdout",
     "output_type": "stream",
     "text": [
      "14/14 [==============================] - 98s 7s/step - loss: 1.8278 - accuracy: 0.4241 - val_loss: 1.1207 - val_accuracy: 0.6094 - lr: 0.0010\n",
      "Epoch 2/10\n",
      "14/14 [==============================] - ETA: 0s - loss: 0.7369 - accuracy: 0.7143\n",
      "Epoch 2: val_loss improved from 1.12067 to 0.63231, saving model to models/single-view\\model_front-panels.h5\n",
      "14/14 [==============================] - 88s 6s/step - loss: 0.7369 - accuracy: 0.7143 - val_loss: 0.6323 - val_accuracy: 0.7656 - lr: 0.0010\n",
      "Epoch 3/10\n",
      "14/14 [==============================] - ETA: 0s - loss: 0.3950 - accuracy: 0.8750\n",
      "Epoch 3: val_loss improved from 0.63231 to 0.60801, saving model to models/single-view\\model_front-panels.h5\n",
      "14/14 [==============================] - 88s 6s/step - loss: 0.3950 - accuracy: 0.8750 - val_loss: 0.6080 - val_accuracy: 0.8125 - lr: 0.0010\n",
      "Epoch 4/10\n",
      "14/14 [==============================] - ETA: 0s - loss: 0.4323 - accuracy: 0.8348\n",
      "Epoch 4: val_loss improved from 0.60801 to 0.36049, saving model to models/single-view\\model_front-panels.h5\n",
      "14/14 [==============================] - 88s 6s/step - loss: 0.4323 - accuracy: 0.8348 - val_loss: 0.3605 - val_accuracy: 0.8594 - lr: 0.0010\n",
      "Epoch 5/10\n",
      "14/14 [==============================] - ETA: 0s - loss: 0.2372 - accuracy: 0.9196\n",
      "Epoch 5: val_loss did not improve from 0.36049\n",
      "14/14 [==============================] - 89s 6s/step - loss: 0.2372 - accuracy: 0.9196 - val_loss: 0.4628 - val_accuracy: 0.7969 - lr: 0.0010\n",
      "Epoch 6/10\n",
      "14/14 [==============================] - ETA: 0s - loss: 0.2088 - accuracy: 0.9241\n",
      "Epoch 6: val_loss improved from 0.36049 to 0.31122, saving model to models/single-view\\model_front-panels.h5\n",
      "14/14 [==============================] - 88s 6s/step - loss: 0.2088 - accuracy: 0.9241 - val_loss: 0.3112 - val_accuracy: 0.8594 - lr: 0.0010\n",
      "Epoch 7/10\n",
      "14/14 [==============================] - ETA: 0s - loss: 0.1640 - accuracy: 0.9330\n",
      "Epoch 7: val_loss improved from 0.31122 to 0.18986, saving model to models/single-view\\model_front-panels.h5\n",
      "14/14 [==============================] - 89s 6s/step - loss: 0.1640 - accuracy: 0.9330 - val_loss: 0.1899 - val_accuracy: 0.9375 - lr: 0.0010\n",
      "Epoch 8/10\n",
      "14/14 [==============================] - ETA: 0s - loss: 0.1632 - accuracy: 0.9509\n",
      "Epoch 8: val_loss did not improve from 0.18986\n",
      "14/14 [==============================] - 88s 6s/step - loss: 0.1632 - accuracy: 0.9509 - val_loss: 0.2479 - val_accuracy: 0.9062 - lr: 0.0010\n",
      "Epoch 9/10\n",
      "14/14 [==============================] - ETA: 0s - loss: 0.1327 - accuracy: 0.9464\n",
      "Epoch 9: val_loss improved from 0.18986 to 0.18277, saving model to models/single-view\\model_front-panels.h5\n",
      "14/14 [==============================] - 89s 6s/step - loss: 0.1327 - accuracy: 0.9464 - val_loss: 0.1828 - val_accuracy: 0.9688 - lr: 0.0010\n",
      "Epoch 10/10\n",
      "14/14 [==============================] - ETA: 0s - loss: 0.1183 - accuracy: 0.9643\n",
      "Epoch 10: val_loss did not improve from 0.18277\n",
      "14/14 [==============================] - 88s 6s/step - loss: 0.1183 - accuracy: 0.9643 - val_loss: 0.2146 - val_accuracy: 0.8906 - lr: 0.0010\n",
      "Found 224 validated image filenames belonging to 8 classes.\n",
      "Found 64 validated image filenames belonging to 8 classes.\n",
      "Found 32 validated image filenames belonging to 8 classes.\n",
      "Epoch 1/10\n",
      "14/14 [==============================] - ETA: 0s - loss: 2.2182 - accuracy: 0.3438\n",
      "Epoch 1: val_loss improved from inf to 1.20642, saving model to models/single-view\\model_side-hinges.h5\n"
     ]
    },
    {
     "name": "stderr",
     "output_type": "stream",
     "text": [
      "c:\\Users\\73351374\\AppData\\Local\\anaconda3\\Lib\\site-packages\\keras\\src\\engine\\training.py:3000: UserWarning: You are saving your model as an HDF5 file via `model.save()`. This file format is considered legacy. We recommend using instead the native Keras format, e.g. `model.save('my_model.keras')`.\n",
      "  saving_api.save_model(\n"
     ]
    },
    {
     "name": "stdout",
     "output_type": "stream",
     "text": [
      "14/14 [==============================] - 93s 6s/step - loss: 2.2182 - accuracy: 0.3438 - val_loss: 1.2064 - val_accuracy: 0.5000 - lr: 0.0010\n",
      "Epoch 2/10\n",
      "14/14 [==============================] - ETA: 0s - loss: 1.0033 - accuracy: 0.6473\n",
      "Epoch 2: val_loss improved from 1.20642 to 0.68158, saving model to models/single-view\\model_side-hinges.h5\n",
      "14/14 [==============================] - 84s 6s/step - loss: 1.0033 - accuracy: 0.6473 - val_loss: 0.6816 - val_accuracy: 0.7500 - lr: 0.0010\n",
      "Epoch 3/10\n",
      "14/14 [==============================] - ETA: 0s - loss: 0.5864 - accuracy: 0.8080\n",
      "Epoch 3: val_loss improved from 0.68158 to 0.67774, saving model to models/single-view\\model_side-hinges.h5\n",
      "14/14 [==============================] - 84s 6s/step - loss: 0.5864 - accuracy: 0.8080 - val_loss: 0.6777 - val_accuracy: 0.7188 - lr: 0.0010\n",
      "Epoch 4/10\n",
      "14/14 [==============================] - ETA: 0s - loss: 0.4852 - accuracy: 0.8438\n",
      "Epoch 4: val_loss did not improve from 0.67774\n",
      "14/14 [==============================] - 83s 6s/step - loss: 0.4852 - accuracy: 0.8438 - val_loss: 0.8573 - val_accuracy: 0.6719 - lr: 0.0010\n",
      "Epoch 5/10\n",
      "14/14 [==============================] - ETA: 0s - loss: 0.4874 - accuracy: 0.8393\n",
      "Epoch 5: val_loss improved from 0.67774 to 0.37103, saving model to models/single-view\\model_side-hinges.h5\n",
      "14/14 [==============================] - 84s 6s/step - loss: 0.4874 - accuracy: 0.8393 - val_loss: 0.3710 - val_accuracy: 0.9062 - lr: 0.0010\n",
      "Epoch 6/10\n",
      "14/14 [==============================] - ETA: 0s - loss: 0.3700 - accuracy: 0.8527\n",
      "Epoch 6: val_loss did not improve from 0.37103\n",
      "14/14 [==============================] - 82s 6s/step - loss: 0.3700 - accuracy: 0.8527 - val_loss: 0.4340 - val_accuracy: 0.8438 - lr: 0.0010\n",
      "Epoch 7/10\n",
      "14/14 [==============================] - ETA: 0s - loss: 0.4363 - accuracy: 0.8438\n",
      "Epoch 7: val_loss did not improve from 0.37103\n",
      "14/14 [==============================] - 81s 6s/step - loss: 0.4363 - accuracy: 0.8438 - val_loss: 0.4224 - val_accuracy: 0.8281 - lr: 0.0010\n",
      "Epoch 8/10\n",
      "14/14 [==============================] - ETA: 0s - loss: 0.2738 - accuracy: 0.9018\n",
      "Epoch 8: val_loss did not improve from 0.37103\n",
      "14/14 [==============================] - 81s 6s/step - loss: 0.2738 - accuracy: 0.9018 - val_loss: 0.4043 - val_accuracy: 0.8438 - lr: 0.0010\n",
      "Epoch 9/10\n",
      "14/14 [==============================] - ETA: 0s - loss: 0.1658 - accuracy: 0.9420\n",
      "Epoch 9: val_loss improved from 0.37103 to 0.32814, saving model to models/single-view\\model_side-hinges.h5\n",
      "14/14 [==============================] - 80s 6s/step - loss: 0.1658 - accuracy: 0.9420 - val_loss: 0.3281 - val_accuracy: 0.9062 - lr: 5.0000e-04\n",
      "Epoch 10/10\n",
      "14/14 [==============================] - ETA: 0s - loss: 0.1758 - accuracy: 0.9330\n",
      "Epoch 10: val_loss improved from 0.32814 to 0.30387, saving model to models/single-view\\model_side-hinges.h5\n",
      "14/14 [==============================] - 83s 6s/step - loss: 0.1758 - accuracy: 0.9330 - val_loss: 0.3039 - val_accuracy: 0.8906 - lr: 5.0000e-04\n"
     ]
    }
   ],
   "source": [
    "epochs = 10\n",
    "\n",
    "\n",
    "for part in parts:\n",
    "    \n",
    "    train_data = trainData[[part, 'class']]\n",
    "    validation_data = validationData[[part, 'class']]\n",
    "    test_data = testData[[part, 'class']]       \n",
    "    \n",
    "    train_data_generator = trainGenerator.flow_from_dataframe(train_data, directory = trainDir,\n",
    "\t\t\t\t\t\t       x_col = part, y_col = \"class\",\n",
    "\t\t\t\t\t\t       class_mode = \"categorical\", \n",
    "                               shuffle = True,\n",
    "                               target_size=(IMG_HEIGHT, IMG_WIDTH),\n",
    "                               batch_size=BATCH_SIZE,\n",
    "                               interpolation = 'lanczos')\n",
    "\n",
    "    validation_data_generator = validationGenerator.flow_from_dataframe(validation_data, directory = validationDir,\n",
    "                                x_col = part, y_col = \"class\",\n",
    "                                class_mode = \"categorical\", \n",
    "                                shuffle = True,\n",
    "                                target_size=(IMG_HEIGHT, IMG_WIDTH),\n",
    "                                batch_size=BATCH_SIZE,\n",
    "                                interpolation = 'lanczos')\n",
    "\n",
    "    test_data_generator = testGenerator.flow_from_dataframe(test_data, directory = testDir,\n",
    "                                x_col = part, y_col = \"class\",\n",
    "                                class_mode = \"categorical\",\n",
    "                                target_size=(IMG_HEIGHT, IMG_WIDTH),\n",
    "                                interpolation = 'lanczos')\n",
    "    \n",
    "    nb_train_samples = train_data_generator.samples\n",
    "    nb_validation_samples = validation_data_generator.samples\n",
    "\n",
    "    model = create_model(base_model, len(classes))\n",
    "\n",
    "    model.compile(Adam(0.001), \n",
    "                    loss='categorical_crossentropy', \n",
    "                    metrics=['accuracy']) \n",
    "\n",
    "    callbacks_list = [ReduceLROnPlateau(monitor='val_loss', factor=0.5, patience=3, min_lr=0.00001),\n",
    "                        EarlyStopping(monitor= \"val_loss\", patience=5),\n",
    "                        ModelCheckpoint(f'models/single-view/model_{part}.h5',\n",
    "                                        monitor = \"val_loss\",\n",
    "                                        save_best_only=True, \n",
    "                                        mode='min', \n",
    "                                        verbose = 1)]\n",
    "\n",
    "    history = model.fit(train_data_generator,\n",
    "                        validation_data=validation_data_generator,\n",
    "                        epochs = epochs,\n",
    "                        callbacks=callbacks_list)\n"
   ]
  }
 ],
 "metadata": {
  "kernelspec": {
   "display_name": "base",
   "language": "python",
   "name": "python3"
  },
  "language_info": {
   "codemirror_mode": {
    "name": "ipython",
    "version": 3
   },
   "file_extension": ".py",
   "mimetype": "text/x-python",
   "name": "python",
   "nbconvert_exporter": "python",
   "pygments_lexer": "ipython3",
   "version": "3.11.4"
  }
 },
 "nbformat": 4,
 "nbformat_minor": 2
}
