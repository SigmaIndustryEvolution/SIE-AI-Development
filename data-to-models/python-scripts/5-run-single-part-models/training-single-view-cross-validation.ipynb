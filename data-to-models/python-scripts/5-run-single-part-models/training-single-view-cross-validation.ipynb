{
 "cells": [
  {
   "cell_type": "markdown",
   "metadata": {},
   "source": [
    "# Classification of doors"
   ]
  },
  {
   "cell_type": "markdown",
   "metadata": {},
   "source": [
    "## Adding libraries"
   ]
  },
  {
   "cell_type": "code",
   "execution_count": null,
   "metadata": {},
   "outputs": [],
   "source": [
    "import numpy as np\n",
    "import pandas as pd\n",
    "import os\n",
    "from sklearn.model_selection import StratifiedKFold\n",
    "import tensorflow as tf\n",
    "import keras\n",
    "from keras.preprocessing.image import ImageDataGenerator\n",
    "from keras.applications import InceptionV3\n",
    "from keras.optimizers import Adam\n",
    "from keras.callbacks import ReduceLROnPlateau, EarlyStopping"
   ]
  },
  {
   "cell_type": "markdown",
   "metadata": {},
   "source": [
    "## Setting up parameters"
   ]
  },
  {
   "cell_type": "markdown",
   "metadata": {},
   "source": [
    "### Height, Width, Batch Size & Number of Splits"
   ]
  },
  {
   "cell_type": "code",
   "execution_count": null,
   "metadata": {},
   "outputs": [],
   "source": [
    "IMG_WIDTH = 256 # input width on the images\n",
    "IMG_HEIGHT = 256 # input height on the images\n",
    "BATCH_SIZE = 16 \n",
    "numberOfSplits = 2 # Will generate the same number of models from each split\n",
    "root = r'../../data'\n",
    "epochs = 20\n",
    "excelPath = r'../../excel\\single-view\\train-test'\n",
    "trainImagesPath = r'../../data-train-test\\train'\n",
    "testImagesPath = r'../../data-train-test\\test'\n",
    "modelSavePath = r'../../models\\single-view'\n",
    "listOfModels = []\n"
   ]
  },
  {
   "cell_type": "markdown",
   "metadata": {},
   "source": [
    "### Generators\n"
   ]
  },
  {
   "cell_type": "code",
   "execution_count": null,
   "metadata": {},
   "outputs": [],
   "source": [
    "train_val_generator = ImageDataGenerator(width_shift_range=0.1,\n",
    "                         height_shift_range=0.1,\n",
    "                         zoom_range=0.3,\n",
    "                         fill_mode='nearest',\n",
    "                         horizontal_flip = True,\n",
    "                         rescale=1./255)\n",
    "\n",
    "test_generator = ImageDataGenerator(rescale=1./255)"
   ]
  },
  {
   "cell_type": "markdown",
   "metadata": {},
   "source": [
    "### Base Model"
   ]
  },
  {
   "cell_type": "code",
   "execution_count": null,
   "metadata": {},
   "outputs": [],
   "source": [
    "base_model = InceptionV3(weights = 'imagenet',\n",
    "                        include_top = False,\n",
    "                        input_shape = (IMG_WIDTH, IMG_HEIGHT, 3))"
   ]
  },
  {
   "cell_type": "markdown",
   "metadata": {},
   "source": [
    "## Setting up functions"
   ]
  },
  {
   "cell_type": "markdown",
   "metadata": {},
   "source": [
    "### Get Parts And Classes"
   ]
  },
  {
   "cell_type": "code",
   "execution_count": null,
   "metadata": {},
   "outputs": [],
   "source": [
    "def SetClassesAndParts(root):\n",
    "    classes = os.listdir(root) # gets a list of all classes from data\n",
    "    pathToParts = os.path.join(root, classes[0])\n",
    "    parts = os.listdir(pathToParts) # gets a list of all parts from data\n",
    "    return classes, parts"
   ]
  },
  {
   "cell_type": "markdown",
   "metadata": {},
   "source": [
    "### Naming Models"
   ]
  },
  {
   "cell_type": "code",
   "execution_count": null,
   "metadata": {},
   "outputs": [],
   "source": [
    "def get_model_name(part_name, k):\n",
    "    return part_name + \"_\" + \"model_\" + str(k) + '.h5'"
   ]
  },
  {
   "cell_type": "markdown",
   "metadata": {},
   "source": [
    "### Creating Model"
   ]
  },
  {
   "cell_type": "code",
   "execution_count": null,
   "metadata": {},
   "outputs": [],
   "source": [
    "def create_functional_model(base_model, numberOfClasses):\n",
    "    inputs = keras.Input(shape=(IMG_HEIGHT,IMG_WIDTH,3))\n",
    "    x = base_model(inputs, training = False)\n",
    "    x = keras.layers.Flatten()(x)\n",
    "    x = keras.layers.Dense(512, activation = 'relu')(x)\n",
    "    outputs = keras.layers.Dense(numberOfClasses, activation = 'softmax')(x)\n",
    "\n",
    "    model = keras.Model(inputs, outputs)\n",
    "    model.layers[0].trainable = False\n",
    "\n",
    "    return model\n",
    "\n",
    "classes, parts = SetClassesAndParts(root)\n",
    "\n",
    "model = create_functional_model(base_model, len(classes))\n",
    "\n",
    "model.compile(Adam(0.0001), # OG: Adam(0.001)\n",
    "            loss='categorical_crossentropy', \n",
    "            metrics=['accuracy']) "
   ]
  },
  {
   "cell_type": "markdown",
   "metadata": {},
   "source": [
    "## K-Fold\n"
   ]
  },
  {
   "cell_type": "code",
   "execution_count": null,
   "metadata": {},
   "outputs": [],
   "source": [
    "skf = StratifiedKFold(n_splits = numberOfSplits, random_state = 7, shuffle = True)"
   ]
  },
  {
   "cell_type": "markdown",
   "metadata": {},
   "source": [
    "# Training models\n"
   ]
  },
  {
   "cell_type": "code",
   "execution_count": null,
   "metadata": {},
   "outputs": [],
   "source": [
    "\n",
    "for part in parts:\n",
    "    trainDataCsv = pd.read_csv(os.path.join(excelPath, part, \"csv\", f\"single-view-{part}-train.csv\"))\n",
    "    testDataCsv = pd.read_csv(os.path.join(excelPath, part, \"csv\", f\"single-view-{part}-test.csv\")) \n",
    "    \n",
    "    trainImagesPartPath = os.path.join(trainImagesPath, part)\n",
    "    testImagesPartPath = os.path.join(testImagesPath, part)\n",
    "    \n",
    "    modelPartSavePath = os.path.join(modelSavePath, part)\n",
    "    \n",
    "    X = trainDataCsv[[\"filename\"]] \n",
    "    Y = trainDataCsv[[\"class\"]]\n",
    "\n",
    "    labels = pd.unique(Y[\"class\"]) \n",
    "    nr_classes = len(labels)   \n",
    "    \n",
    "    fold_var = 1\n",
    "    \n",
    "    validation_accuracy = []\n",
    "    test_accuracy = []\n",
    "    \n",
    "    for train_index, val_index in skf.split(X, Y):\n",
    "\n",
    "        trainDataAtIndex = trainDataCsv.iloc[train_index]\n",
    "\n",
    "        validatingDataAtIndex = trainDataCsv.iloc[val_index]\n",
    "        \n",
    "        trainDataGenerator = train_val_generator.flow_from_dataframe(trainDataAtIndex, directory = trainImagesPartPath,\n",
    "                                x_col = \"filename\", y_col = \"class\",\n",
    "                                class_mode = \"categorical\", \n",
    "                                shuffle = True,\n",
    "                                target_size=(IMG_HEIGHT, IMG_WIDTH),\n",
    "                                batch_size=BATCH_SIZE)\n",
    "        \n",
    "\n",
    "        validationDataGenerator  = test_generator.flow_from_dataframe(validatingDataAtIndex, directory = trainImagesPartPath,\n",
    "                                x_col = \"filename\", y_col = \"class\",\n",
    "                                class_mode = \"categorical\", \n",
    "                                shuffle = True,\n",
    "                                target_size=(IMG_HEIGHT, IMG_WIDTH),\n",
    "                                batch_size=BATCH_SIZE)\n",
    "        \n",
    "        \n",
    "        testDataGenerator  = test_generator.flow_from_dataframe(testDataCsv, directory = testImagesPartPath,\n",
    "                                x_col = \"filename\", y_col = \"class\",\n",
    "                                class_mode = \"categorical\", \n",
    "                                shuffle = True,\n",
    "                                target_size=(IMG_HEIGHT, IMG_WIDTH),\n",
    "                                batch_size=BATCH_SIZE)\n",
    "        \n",
    "        nb_train_samples = trainDataGenerator.samples\n",
    "        nb_validation_samples = validationDataGenerator.samples\n",
    "        nb_test_samples = testDataGenerator.samples\n",
    "\n",
    "        \n",
    "        \n",
    "        checkpoint = tf.keras.callbacks.ModelCheckpoint(os.path.join(modelPartSavePath, get_model_name(part, fold_var)),\n",
    "                                monitor='val_loss', verbose=1, \n",
    "                                save_best_only=True, mode='min')\n",
    "        \n",
    "        \n",
    "\n",
    "        callbacks_list = [ReduceLROnPlateau(monitor='val_loss', factor=0.5, patience=5, min_lr=0.00001),\n",
    "                        EarlyStopping(patience=5), checkpoint]\n",
    "        \n",
    "        history = model.fit(trainDataGenerator,\n",
    "                            steps_per_epoch = nb_train_samples // BATCH_SIZE, \n",
    "                            validation_data = validationDataGenerator,\n",
    "                            validation_steps = nb_validation_samples // BATCH_SIZE, \n",
    "                            epochs = epochs,\n",
    "                            callbacks = callbacks_list)\n",
    "        \n",
    "        # LOAD BEST MODEL to evaluate the performance of the model\n",
    "        model.load_weights(os.path.join(modelPartSavePath, get_model_name(part, fold_var)))\n",
    "\n",
    "        valid_res = model.evaluate(validationDataGenerator)\n",
    "        validation_accuracy.append(valid_res[1])\n",
    "\n",
    "        test_res = model.evaluate(testDataGenerator)\n",
    "        test_accuracy.append(test_res[1])\n",
    "\n",
    "        listOfModels.append(model)\n",
    "        tf.keras.backend.clear_session()\n",
    "\n",
    "        fold_var += 1\n",
    "       \n",
    "    print(validation_accuracy)\n",
    "    print(np.average(validation_accuracy))\n",
    "    print(np.std(validation_accuracy))\n",
    "    print(test_accuracy)\n",
    "    print(np.average(test_accuracy))\n",
    "    print(np.std(test_accuracy))\n",
    "    "
   ]
  },
  {
   "cell_type": "code",
   "execution_count": null,
   "metadata": {},
   "outputs": [],
   "source": [
    "validation_accuracy"
   ]
  },
  {
   "cell_type": "code",
   "execution_count": null,
   "metadata": {},
   "outputs": [],
   "source": [
    "np.average(validation_accuracy)"
   ]
  },
  {
   "cell_type": "code",
   "execution_count": null,
   "metadata": {},
   "outputs": [],
   "source": [
    "np.std(validation_accuracy)"
   ]
  },
  {
   "cell_type": "code",
   "execution_count": null,
   "metadata": {},
   "outputs": [],
   "source": [
    "test_accuracy"
   ]
  },
  {
   "cell_type": "code",
   "execution_count": null,
   "metadata": {},
   "outputs": [],
   "source": [
    "np.average(test_accuracy)"
   ]
  },
  {
   "cell_type": "code",
   "execution_count": null,
   "metadata": {},
   "outputs": [],
   "source": [
    "np.std(test_accuracy)"
   ]
  }
 ],
 "metadata": {
  "kernelspec": {
   "display_name": "base",
   "language": "python",
   "name": "python3"
  },
  "language_info": {
   "codemirror_mode": {
    "name": "ipython",
    "version": 3
   },
   "file_extension": ".py",
   "mimetype": "text/x-python",
   "name": "python",
   "nbconvert_exporter": "python",
   "pygments_lexer": "ipython3",
   "version": "3.11.4"
  },
  "orig_nbformat": 4
 },
 "nbformat": 4,
 "nbformat_minor": 2
}
